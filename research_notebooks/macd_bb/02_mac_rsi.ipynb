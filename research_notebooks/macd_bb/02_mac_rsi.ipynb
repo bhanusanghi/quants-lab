{
 "cells": [
  {
   "cell_type": "code",
   "execution_count": 1,
   "metadata": {
    "collapsed": false
   },
   "outputs": [],
   "source": [
    "# This is necessary to recognize the modules\n",
    "import os\n",
    "import sys\n",
    "from decimal import Decimal\n",
    "import warnings\n",
    "\n",
    "warnings.filterwarnings(\"ignore\")\n",
    "\n",
    "root_path = os.path.abspath(os.path.join(os.getcwd(), '../..'))\n",
    "sys.path.append(root_path)"
   ]
  },
  {
   "cell_type": "code",
   "execution_count": 2,
   "metadata": {
    "collapsed": false,
    "jupyter": {
     "outputs_hidden": false
    }
   },
   "outputs": [],
   "source": [
    "from core.backtesting import BacktestingEngine\n",
    "\n",
    "backtesting = BacktestingEngine(root_path=root_path, load_cached_data=True)"
   ]
  },
  {
   "cell_type": "code",
   "execution_count": 8,
   "metadata": {
    "collapsed": false,
    "jupyter": {
     "outputs_hidden": false
    }
   },
   "outputs": [],
   "source": [
    "from controllers.directional_trading.macd_bb_rsi_multi_token_controller import MACDBBRSIMultiTokenControllerConfig\n",
    "import datetime\n",
    "from decimal import Decimal\n",
    "\n",
    "# Controller configuration\n",
    "exchange = \"binance_perpetual\"\n",
    "trading_pairs = [\"WLD-USDT\"]\n",
    "candles_exchange = \"binance_perpetual\"\n",
    "candles_pairs = [\"WLD-USDT\"]\n",
    "candles_interval = \"5m\"\n",
    "macd_fast = 6\n",
    "macd_slow = 13\n",
    "macd_signal = 4\n",
    "bb_length = 20\n",
    "bb_std = 2.2\n",
    "bb_long_threshold = 0.2\n",
    "bb_short_threshold = 0.8\n",
    "rsi_low = 20\n",
    "rsi_high = 80\n",
    "rsi_length = 14\n",
    "order_amount_quote = 100\n",
    "take_profit = 0.015\n",
    "stop_loss = 0.01\n",
    "time_limit = 60 * 60 * 1\n",
    "\n",
    "start = int(datetime.datetime(2025, 7, 1).timestamp())\n",
    "end = int(datetime.datetime(2025, 7, 9).timestamp())\n",
    "\n",
    "# Creating the instance of the configuration and the controller\n",
    "config = MACDBBRSIMultiTokenControllerConfig(\n",
    "    exchange=exchange,\n",
    "    trading_pairs=trading_pairs,\n",
    "    candles_exchange=candles_exchange,\n",
    "    candles_pairs=candles_pairs,\n",
    "    candles_interval=candles_interval,\n",
    "    macd_fast=macd_fast,\n",
    "    macd_slow=macd_slow,\n",
    "    macd_signal=macd_signal,\n",
    "    bb_length=bb_length,\n",
    "    bb_std=bb_std,\n",
    "    bb_long_threshold=bb_long_threshold,\n",
    "    bb_short_threshold=bb_short_threshold,\n",
    "    rsi_low=rsi_low,\n",
    "    rsi_high=rsi_high,\n",
    "    rsi_length=rsi_length,\n",
    "    order_amount_quote=Decimal(order_amount_quote),\n",
    "    take_profit=Decimal(take_profit),\n",
    "    stop_loss=Decimal(stop_loss),\n",
    "    time_limit=time_limit,\n",
    ")"
   ]
  },
  {
   "cell_type": "code",
   "execution_count": 9,
   "metadata": {
    "collapsed": false
   },
   "outputs": [
    {
     "name": "stdout",
     "output_type": "stream",
     "text": [
      "id=None controller_name='macd_bb_rsi_multi_token' controller_type='generic' total_amount_quote=<property object at 0x32bda6160> manual_kill_switch=False candles_config=[] initial_positions=[] exchange='binance_perpetual' trading_pairs=['WLD-USDT'] candles_exchange='binance_perpetual' candles_pairs=['WLD-USDT'] candles_interval='5m' candles_length=60 rsi_low=20.0 rsi_high=80.0 rsi_length=14 macd_fast=6 macd_slow=13 macd_signal=4 bb_length=20 bb_std=2.2 bb_long_threshold=0.2 bb_short_threshold=0.8 order_amount_quote=Decimal('100') leverage=10 position_mode='ONEWAY' stop_loss=Decimal('0.01000000000000000020816681711721685132943093776702880859375') take_profit=Decimal('0.01499999999999999944488848768742172978818416595458984375') time_limit=3600\n"
     ]
    }
   ],
   "source": [
    "backtesting_result = await backtesting.run_backtesting(config, start, end, candles_interval)"
   ]
  },
  {
   "cell_type": "code",
   "execution_count": 10,
   "metadata": {},
   "outputs": [
    {
     "ename": "AttributeError",
     "evalue": "'int' object has no attribute 'get'",
     "output_type": "error",
     "traceback": [
      "\u001b[31m---------------------------------------------------------------------------\u001b[39m",
      "\u001b[31mAttributeError\u001b[39m                            Traceback (most recent call last)",
      "\u001b[36mCell\u001b[39m\u001b[36m \u001b[39m\u001b[32mIn[10]\u001b[39m\u001b[32m, line 2\u001b[39m\n\u001b[32m      1\u001b[39m \u001b[38;5;66;03m# Let's see what is inside the backtesting results\u001b[39;00m\n\u001b[32m----> \u001b[39m\u001b[32m2\u001b[39m \u001b[38;5;28mprint\u001b[39m(\u001b[43mbacktesting_result\u001b[49m\u001b[43m.\u001b[49m\u001b[43mget_results_summary\u001b[49m\u001b[43m(\u001b[49m\u001b[43m)\u001b[49m)\n\u001b[32m      3\u001b[39m backtesting_result.get_backtesting_figure()\n",
      "\u001b[36mFile \u001b[39m\u001b[32m~/projects/trading/quants-lab/core/data_structures/backtesting_result.py:35\u001b[39m, in \u001b[36mBacktestingResult.get_results_summary\u001b[39m\u001b[34m(self, results)\u001b[39m\n\u001b[32m     33\u001b[39m accuracy_long = results[\u001b[33m\"\u001b[39m\u001b[33maccuracy_long\u001b[39m\u001b[33m\"\u001b[39m]\n\u001b[32m     34\u001b[39m accuracy_short = results[\u001b[33m\"\u001b[39m\u001b[33maccuracy_short\u001b[39m\u001b[33m\"\u001b[39m]\n\u001b[32m---> \u001b[39m\u001b[32m35\u001b[39m take_profit = \u001b[43mresults\u001b[49m\u001b[43m[\u001b[49m\u001b[33;43m\"\u001b[39;49m\u001b[33;43mclose_types\u001b[39;49m\u001b[33;43m\"\u001b[39;49m\u001b[43m]\u001b[49m\u001b[43m.\u001b[49m\u001b[43mget\u001b[49m(\u001b[33m\"\u001b[39m\u001b[33mTAKE_PROFIT\u001b[39m\u001b[33m\"\u001b[39m, \u001b[32m0\u001b[39m)\n\u001b[32m     36\u001b[39m stop_loss = results[\u001b[33m\"\u001b[39m\u001b[33mclose_types\u001b[39m\u001b[33m\"\u001b[39m].get(\u001b[33m\"\u001b[39m\u001b[33mSTOP_LOSS\u001b[39m\u001b[33m\"\u001b[39m, \u001b[32m0\u001b[39m)\n\u001b[32m     37\u001b[39m time_limit = results[\u001b[33m\"\u001b[39m\u001b[33mclose_types\u001b[39m\u001b[33m\"\u001b[39m].get(\u001b[33m\"\u001b[39m\u001b[33mTIME_LIMIT\u001b[39m\u001b[33m\"\u001b[39m, \u001b[32m0\u001b[39m)\n",
      "\u001b[31mAttributeError\u001b[39m: 'int' object has no attribute 'get'"
     ]
    }
   ],
   "source": [
    "# Let's see what is inside the backtesting results\n",
    "print(backtesting_result.get_results_summary())\n",
    "backtesting_result.get_backtesting_figure()"
   ]
  },
  {
   "cell_type": "code",
   "execution_count": null,
   "metadata": {
    "collapsed": false,
    "jupyter": {
     "outputs_hidden": false
    }
   },
   "outputs": [],
   "source": [
    "# 2. The executors dataframe: this is the dataframe that contains the information of the orders that were executed\n",
    "import pandas as pd\n",
    "\n",
    "executors_df = backtesting_result.executors_df\n",
    "executors_df.head()"
   ]
  },
  {
   "cell_type": "markdown",
   "metadata": {
    "collapsed": false
   },
   "source": [
    "### Backtesting Analysis"
   ]
  },
  {
   "cell_type": "markdown",
   "metadata": {
    "collapsed": false,
    "jupyter": {
     "outputs_hidden": false
    }
   },
   "source": [
    "### Scatter of PNL per Trade\n",
    "This bar chart illustrates the PNL for each individual trade. Positive PNLs are shown in green and negative PNLs in red, providing a clear view of profitable vs. unprofitable trades.\n"
   ]
  },
  {
   "cell_type": "code",
   "execution_count": null,
   "metadata": {
    "collapsed": false,
    "jupyter": {
     "outputs_hidden": false
    }
   },
   "outputs": [],
   "source": [
    "import plotly.express as px\n",
    "\n",
    "# Create a new column for profitability\n",
    "executors_df['profitable'] = executors_df['net_pnl_quote'] > 0\n",
    "\n",
    "# Create the scatter plot\n",
    "fig = px.scatter(\n",
    "    executors_df,\n",
    "    x=\"timestamp\",\n",
    "    y='net_pnl_quote',\n",
    "    title='PNL per Trade',\n",
    "    color='profitable',\n",
    "    color_discrete_map={True: 'green', False: 'red'},\n",
    "    labels={'timestamp': 'Timestamp', 'net_pnl_quote': 'Net PNL (Quote)'},\n",
    "    hover_data=['filled_amount_quote', 'side']\n",
    ")\n",
    "\n",
    "# Customize the layout\n",
    "fig.update_layout(\n",
    "    xaxis_title=\"Timestamp\",\n",
    "    yaxis_title=\"Net PNL (Quote)\",\n",
    "    legend_title=\"Profitable\",\n",
    "    font=dict(size=12, color=\"white\"),\n",
    "    showlegend=False,\n",
    "    plot_bgcolor='rgba(0,0,0,0.8)',  # Dark background\n",
    "    paper_bgcolor='rgba(0,0,0,0.8)',  # Dark background for the entire plot area\n",
    "    xaxis=dict(gridcolor=\"gray\"),\n",
    "    yaxis=dict(gridcolor=\"gray\")\n",
    ")\n",
    "\n",
    "# Add a horizontal line at y=0 to clearly separate profits and losses\n",
    "fig.add_hline(y=0, line_dash=\"dash\", line_color=\"lightgray\")\n",
    "\n",
    "# Show the plot\n",
    "fig.show()"
   ]
  },
  {
   "cell_type": "markdown",
   "metadata": {
    "collapsed": false,
    "jupyter": {
     "outputs_hidden": false
    }
   },
   "source": [
    "### Histogram of PNL Distribution\n",
    "The histogram displays the distribution of PNL values across all trades. It helps in understanding the frequency and range of profit and loss outcomes.\n"
   ]
  },
  {
   "cell_type": "code",
   "execution_count": null,
   "metadata": {
    "collapsed": false,
    "jupyter": {
     "outputs_hidden": false
    }
   },
   "outputs": [],
   "source": [
    "fig = px.histogram(executors_df, x='net_pnl_quote', title='PNL Distribution')\n",
    "fig.show()\n"
   ]
  },
  {
   "cell_type": "markdown",
   "metadata": {
    "collapsed": false,
    "jupyter": {
     "outputs_hidden": false
    }
   },
   "source": [
    "# Conclusion\n",
    "We can see that the indicator has potential to bring good signals to trade and might be interesting to see how we can design a market maker that shifts the mid price based on this indicator.\n",
    "A lot of the short signals are wrong but if we zoom in into the loss signals we can see that the losses are not that big and the wins are bigger and if we had implemented the trailing stop feature probably a lot of them are going to be profits."
   ]
  },
  {
   "cell_type": "markdown",
   "metadata": {
    "collapsed": false,
    "jupyter": {
     "outputs_hidden": false
    }
   },
   "source": [
    "# Next steps\n",
    "- Filter only the loss signals and understand what you can do to prevent them\n",
    "- Try different configuration values for the indicator\n",
    "- Test in multiple markets, pick mature markets like BTC-USDT or ETH-USDT and also volatile markets like DOGE-USDT or SHIB-USDT"
   ]
  }
 ],
 "metadata": {
  "kernelspec": {
   "display_name": "quants-lab",
   "language": "python",
   "name": "python3"
  },
  "language_info": {
   "codemirror_mode": {
    "name": "ipython",
    "version": 3
   },
   "file_extension": ".py",
   "mimetype": "text/x-python",
   "name": "python",
   "nbconvert_exporter": "python",
   "pygments_lexer": "ipython3",
   "version": "3.12.11"
  }
 },
 "nbformat": 4,
 "nbformat_minor": 4
}
